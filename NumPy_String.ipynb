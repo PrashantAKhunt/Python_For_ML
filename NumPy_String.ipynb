{
 "cells": [
  {
   "cell_type": "code",
   "execution_count": 1,
   "id": "72e263c8",
   "metadata": {},
   "outputs": [],
   "source": [
    "import numpy as np"
   ]
  },
  {
   "cell_type": "code",
   "execution_count": 2,
   "id": "aea317e2",
   "metadata": {},
   "outputs": [],
   "source": [
    "ch_name = \"Prashant Khunt\""
   ]
  },
  {
   "cell_type": "code",
   "execution_count": 3,
   "id": "6491cb95",
   "metadata": {},
   "outputs": [],
   "source": [
    "str1 = \"Software Developer\""
   ]
  },
  {
   "cell_type": "code",
   "execution_count": 4,
   "id": "15a07648",
   "metadata": {},
   "outputs": [
    {
     "data": {
      "text/plain": [
       "array('Prashant KhuntSoftware Developer', dtype='<U32')"
      ]
     },
     "execution_count": 4,
     "metadata": {},
     "output_type": "execute_result"
    }
   ],
   "source": [
    "np.char.add(ch_name,str1)"
   ]
  },
  {
   "cell_type": "code",
   "execution_count": 5,
   "id": "40bd94d1",
   "metadata": {},
   "outputs": [
    {
     "data": {
      "text/plain": [
       "array('prashant khunt', dtype='<U14')"
      ]
     },
     "execution_count": 5,
     "metadata": {},
     "output_type": "execute_result"
    }
   ],
   "source": [
    "np.char.lower(ch_name)"
   ]
  },
  {
   "cell_type": "code",
   "execution_count": 6,
   "id": "ad5a4642",
   "metadata": {},
   "outputs": [
    {
     "data": {
      "text/plain": [
       "array('PRASHANT KHUNT', dtype='<U14')"
      ]
     },
     "execution_count": 6,
     "metadata": {},
     "output_type": "execute_result"
    }
   ],
   "source": [
    "np.char.upper(ch_name)"
   ]
  },
  {
   "cell_type": "code",
   "execution_count": 10,
   "id": "216aac35",
   "metadata": {},
   "outputs": [
    {
     "data": {
      "text/plain": [
       "array('*Software Developer*', dtype='<U20')"
      ]
     },
     "execution_count": 10,
     "metadata": {},
     "output_type": "execute_result"
    }
   ],
   "source": [
    "np.char.center(str1,20,fillchar=\"*\")"
   ]
  },
  {
   "cell_type": "code",
   "execution_count": 11,
   "id": "e91a932b",
   "metadata": {},
   "outputs": [
    {
     "data": {
      "text/plain": [
       "array(list(['Prashant', 'Khunt']), dtype=object)"
      ]
     },
     "execution_count": 11,
     "metadata": {},
     "output_type": "execute_result"
    }
   ],
   "source": [
    "np.char.split(ch_name)"
   ]
  },
  {
   "cell_type": "code",
   "execution_count": 12,
   "id": "6fe04711",
   "metadata": {},
   "outputs": [
    {
     "data": {
      "text/plain": [
       "array(list(['Hello', 'Prashant']), dtype=object)"
      ]
     },
     "execution_count": 12,
     "metadata": {},
     "output_type": "execute_result"
    }
   ],
   "source": [
    "np.char.splitlines(\"Hello\\nPrashant\")"
   ]
  },
  {
   "cell_type": "code",
   "execution_count": 13,
   "id": "de99e13e",
   "metadata": {},
   "outputs": [],
   "source": [
    "str4 = \"dmy\"\n",
    "str5 = \"dmy\""
   ]
  },
  {
   "cell_type": "code",
   "execution_count": 14,
   "id": "f6112415",
   "metadata": {},
   "outputs": [
    {
     "data": {
      "text/plain": [
       "array(['d:m:y', 'd/m/y'], dtype='<U5')"
      ]
     },
     "execution_count": 14,
     "metadata": {},
     "output_type": "execute_result"
    }
   ],
   "source": [
    "np.char.join([\":\",\"/\"],[str4,str5])"
   ]
  },
  {
   "cell_type": "code",
   "execution_count": 15,
   "id": "0c62cb69",
   "metadata": {},
   "outputs": [
    {
     "data": {
      "text/plain": [
       "array('Prashant Patel', dtype='<U14')"
      ]
     },
     "execution_count": 15,
     "metadata": {},
     "output_type": "execute_result"
    }
   ],
   "source": [
    "np.char.replace(ch_name,\"Khunt\",\"Patel\")"
   ]
  },
  {
   "cell_type": "code",
   "execution_count": 16,
   "id": "e56e58f3",
   "metadata": {},
   "outputs": [
    {
     "data": {
      "text/plain": [
       "array(True)"
      ]
     },
     "execution_count": 16,
     "metadata": {},
     "output_type": "execute_result"
    }
   ],
   "source": [
    "np.char.equal(str4,str5)"
   ]
  },
  {
   "cell_type": "code",
   "execution_count": 18,
   "id": "ed11f74b",
   "metadata": {},
   "outputs": [
    {
     "data": {
      "text/plain": [
       "array(2)"
      ]
     },
     "execution_count": 18,
     "metadata": {},
     "output_type": "execute_result"
    }
   ],
   "source": [
    "np.char.count(ch_name,\"a\")"
   ]
  },
  {
   "cell_type": "code",
   "execution_count": 19,
   "id": "9ea72a02",
   "metadata": {},
   "outputs": [
    {
     "data": {
      "text/plain": [
       "array(9)"
      ]
     },
     "execution_count": 19,
     "metadata": {},
     "output_type": "execute_result"
    }
   ],
   "source": [
    "np.char.find(ch_name,\"Khunt\")"
   ]
  },
  {
   "cell_type": "code",
   "execution_count": null,
   "id": "3144ffdb",
   "metadata": {},
   "outputs": [],
   "source": [
    " "
   ]
  }
 ],
 "metadata": {
  "kernelspec": {
   "display_name": "Python 3",
   "language": "python",
   "name": "python3"
  },
  "language_info": {
   "codemirror_mode": {
    "name": "ipython",
    "version": 3
   },
   "file_extension": ".py",
   "mimetype": "text/x-python",
   "name": "python",
   "nbconvert_exporter": "python",
   "pygments_lexer": "ipython3",
   "version": "3.8.8"
  }
 },
 "nbformat": 4,
 "nbformat_minor": 5
}
